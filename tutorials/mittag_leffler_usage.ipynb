{
 "cells": [
  {
   "cell_type": "markdown",
   "metadata": {},
   "source": [
    "To start, call the contents of my package, ignore the warnings or errors, this is because somehow we are redefining something by calling to packages that have the same function"
   ]
  },
  {
   "cell_type": "code",
   "execution_count": 1,
   "metadata": {},
   "outputs": [
    {
     "name": "stderr",
     "output_type": "stream",
     "text": [
      "WARNING: Method definition (::Type{Base.MPFR.BigFloat})(Base.Irrational{:invsqrt2π}) in module IrrationalConstants at irrationals.jl:223 overwritten in module StatsFuns on the same line (check for duplicate calls to `include`).\n",
      "ERROR: Method overwriting is not permitted during Module precompilation. Use `__precompile__(false)` to opt-out of precompilation.\n",
      "WARNING: Method definition (::Type{Base.MPFR.BigFloat})(Base.Irrational{:invsqrt2π}) in module IrrationalConstants at irrationals.jl:223 overwritten in module StatsFuns on the same line (check for duplicate calls to `include`).\n",
      "ERROR: Method overwriting is not permitted during Module precompilation. Use `__precompile__(false)` to opt-out of precompilation.\n",
      "WARNING: Method definition (::Type{Base.MPFR.BigFloat})(Base.Irrational{:invsqrt2π}) in module IrrationalConstants at irrationals.jl:223 overwritten in module StatsFuns on the same line (check for duplicate calls to `include`).\n",
      "ERROR: Method overwriting is not permitted during Module precompilation. Use `__precompile__(false)` to opt-out of precompilation.\n"
     ]
    }
   ],
   "source": [
    "using Revise\n",
    "using FractionalKrylovMC"
   ]
  },
  {
   "cell_type": "markdown",
   "metadata": {},
   "source": [
    "We create a random problem"
   ]
  },
  {
   "cell_type": "code",
   "execution_count": 2,
   "metadata": {},
   "outputs": [
    {
     "data": {
      "text/plain": [
       "MittagLefflerProblem{Float64}(300, [0.4824394867401651 -0.00722171210449179 … -0.01090027785075779 -0.0008844858747993466; -0.0072217121044923 0.4929662395824477 … -0.025366388413776246 0.03872790641056803; … ; -0.01090027785075802 -0.025366388413776142 … 0.5189829017111584 0.004329445535263789; -0.0008844858747996762 0.03872790641056792 … 0.004329445535263793 0.5101327511941727], [0.4824394867401651 -0.00722171210449179 … -0.01090027785075779 -0.0008844858747993466; -0.0072217121044923 0.4929662395824477 … -0.025366388413776246 0.03872790641056803; … ; -0.01090027785075802 -0.025366388413776142 … 0.5189829017111584 0.004329445535263789; -0.0008844858747996762 0.03872790641056792 … 0.004329445535263793 0.5101327511941727], [0.5426309710050707, 0.2278391218169208, 0.8331563058665571, 0.016776096962153986, 0.4087816659958188, 0.1119005507365094, 0.8768419091319543, 0.5447832195946511, 0.553502531273299, 0.203565234460385  …  0.4421874479965595, 0.17090405442454826, 0.07221719128180293, 0.957260132829647, 0.7228356125228386, 0.7289421360814078, 0.4960676334977425, 0.04666512610077622, 0.3227019343749715, 0.749374946651164], 0.3556566760968838, 0.9, 0.8, 0.888888888888889, 1, [0.09445162186720402, 0.5026418179313454, 0.6681711200239332, 0.607804956228295, 0.49479280179427265, 0.9169812639557675, 0.5718077725445555, 0.37767346671536073, 0.6243446271124462, 0.8496084904237381  …  0.34758683698715287, 0.1515616604663279, 0.7557796071233689, 0.8597205793307174, 0.15173402016956294, 0.6881357396863073, 0.6459769856613716, 0.20457358286891092, 0.5324435069518823, 0.9555509067898341], [-0.002449803607201151 -0.010250713709459926 … 0.03438272494752946 -0.023968318303405223; -0.029167853302932662 -0.08823119395482548 … -0.03389394654492504 -0.11147651522802916; … ; -0.007049900401718231 -0.017980863231443777 … -0.058249186680936704 -0.013410510849305286; -0.035115227989048634 -0.09113152145067151 … 0.026676790552008244 -0.030934450130481902], [0.3664581920170088, 0.16026996672409557, 0.7081481136608928, 0.09527510706173722, 0.43538337343058364, 0.2115551324081974, 0.7205107457083334, 0.41905396571827425, 0.49333954053094614, 0.2323918020611876  …  0.3218446959411052, 0.12414436853620948, 0.10206995566898917, 0.8437719832049388, 0.5710013371476808, 0.6932100613033727, 0.47356881059770467, 0.11077679447670444, 0.25482300471312813, 0.6552071763361779])"
      ]
     },
     "metadata": {},
     "output_type": "display_data"
    }
   ],
   "source": [
    "# USAGE: problem = create_random_problem(α::ExponentInTime,γ::ExponentInSpace,k::SizeOfVector)\n",
    "α = 0.9 # using derivative in time ^C_0 D_t^α\n",
    "γ = 0.8 # using A^γ as the linear operator\n",
    "# perhaps lower this!\n",
    "k = 300 # size(u0) = k; size(A) = (k,k)\n",
    "problem = create_random_problem(α,γ,k,MittagLefflerRand())"
   ]
  },
  {
   "cell_type": "markdown",
   "metadata": {},
   "source": [
    "problem has following fields"
   ]
  },
  {
   "cell_type": "code",
   "execution_count": null,
   "metadata": {},
   "outputs": [],
   "source": [
    "# relevant parameters of the problem\n",
    "problem.A # matrix\n",
    "problem.u0 # initial condition\n",
    "problem.t # time\n",
    "# we want to compute\n",
    "# mittleff(α,-A^γ*t^α)*u0"
   ]
  },
  {
   "cell_type": "markdown",
   "metadata": {},
   "source": [
    "the way I create the problem, I already compute the exact solution"
   ]
  },
  {
   "cell_type": "code",
   "execution_count": null,
   "metadata": {},
   "outputs": [],
   "source": [
    "problem.uT_spectral"
   ]
  },
  {
   "cell_type": "markdown",
   "metadata": {},
   "source": [
    "we can call the Monte-Carlo solver, which computes the exponential matrix by computing $\\exp(-At)$ for all random times $t$ and does not project to any subspace"
   ]
  },
  {
   "cell_type": "code",
   "execution_count": 3,
   "metadata": {},
   "outputs": [
    {
     "data": {
      "text/plain": [
       "FractionalKrylovMC.MittagLefflerMCSolution{Float64}([0.36714449081163797, 0.16054479224034057, 0.7087889003337605, 0.09496610322228217, 0.43542200230018957, 0.21124649674315274, 0.7212987105816101, 0.41959887371719296, 0.49372912924625056, 0.23225349751277044  …  0.3223293753086675, 0.12431296863590438, 0.1019476738761953, 0.8443861179070706, 0.5717494720550758, 0.693510869540203, 0.4737610420673497, 0.11057805280176222, 0.2551225505365903, 0.6557319443299396], [9.018043827341159e-8, 7.624961154888441e-7, 2.642492874926617e-6, 5.366256055021698e-6, 1.5090989019786715e-5, 1.5587282840024563e-5, 1.918102561295016e-5, 2.2303104506077277e-5, 2.3283488152344732e-5, 2.3301475717808258e-5  …  2534.079598013102, 3122.100360232664, 6228.928226374932, 8750.827586839128, 9657.88809282001, 10588.808157937881, 13361.092769772798, 16932.696921599985, 41524.36342069755, 49573.1272526413], 100000, 1.0e6)"
      ]
     },
     "metadata": {},
     "output_type": "display_data"
    }
   ],
   "source": [
    "nsims = Int(1e5)\n",
    "cutoff = 1e6 # ignoring all times beyond cutoff\n",
    "MCSol = solve(problem,nsims,cutoff,MCSolver())"
   ]
  },
  {
   "cell_type": "markdown",
   "metadata": {},
   "source": [
    "Check relative error and random entries to see whether it is correct, checking with confidence ranges will be done in the future"
   ]
  },
  {
   "cell_type": "code",
   "execution_count": 4,
   "metadata": {},
   "outputs": [
    {
     "name": "stdout",
     "output_type": "stream",
     "text": [
      "relative_error(problem.uT_spectral, MCSol.uT) = 0.0008520554223556011\n",
      "problem.uT_spectral[entries_to_show] = [0.12414436853620948, 0.6275463597562488, 0.7879545326946402, 0.8035879390711249, 0.24484002331160093]\n",
      "MCSol.uT[entries_to_show] = [0.12431296863590438, 0.6281522186445314, 0.788744477496306, 0.8040513603493401, 0.24477503862721262]\n"
     ]
    }
   ],
   "source": [
    "using Random\n",
    "@show relative_error(problem.uT_spectral,MCSol.uT);\n",
    "entries_to_show = randperm(k)[1:5]\n",
    "@show problem.uT_spectral[entries_to_show];\n",
    "@show MCSol.uT[entries_to_show];"
   ]
  },
  {
   "cell_type": "markdown",
   "metadata": {},
   "source": [
    "can also use Krylov!"
   ]
  },
  {
   "cell_type": "code",
   "execution_count": 5,
   "metadata": {},
   "outputs": [
    {
     "data": {
      "text/plain": [
       "MittagLefflerMCSolution{Float64}([0.11636792768055922, 0.03590590232145222, 0.09095050889481589, 0.5877801084548403, 0.3312206673144261, 0.5808196195255234, 0.3774191449106153, 0.12705843474498177, 0.2987390918440006, 0.399895148964329  …  0.25722577350422654, 0.07298003390713695, 0.018049700787571336, 0.08802300657120808, 0.7026595843706074, 0.19096146424429045, 0.7175306864704117, 0.22248998464868872, 0.36509778629551143, 0.29578879059167656], [2.2923520499773145e-6, 3.799145958859502e-6, 1.5132093552727634e-5, 1.6060090715816866e-5, 1.7576099950020373e-5, 1.9807230255466673e-5, 2.11699004618462e-5, 2.614284110197647e-5, 2.758549532932784e-5, 2.8661746962706307e-5  …  23523.68249820971, 24975.751542023347, 26856.316512089554, 27225.547935359755, 28895.5865803514, 31755.969661765645, 38945.8723638231, 48549.76383027059, 55477.94722272533, 84481.47328431379], 100000, 1.0e6)"
      ]
     },
     "metadata": {},
     "output_type": "display_data"
    }
   ],
   "source": [
    "KrySubspaceDim = 5\n",
    "MCKrySol = solve(problem,nsims,cutoff,KrySubspaceDim,MCSolverExpokit())"
   ]
  },
  {
   "cell_type": "code",
   "execution_count": 6,
   "metadata": {},
   "outputs": [
    {
     "name": "stdout",
     "output_type": "stream",
     "text": [
      "relative_error(problem.uT_spectral, MCSol.uT) = 0.04405151545783162\n",
      "problem.uT_spectral[entries_to_show] = [0.32903371631807354, 0.466519351346999, 0.39266344200827225, 0.42292447860218824, 0.3700733660968992]\n",
      "MCKrySol.uT[entries_to_show] = [0.3435055952725601, 0.48435786832338157, 0.40558008261410644, 0.4253704811065888, 0.3735129089014563]\n"
     ]
    }
   ],
   "source": [
    "@show relative_error(problem.uT_spectral,MCSol.uT);\n",
    "entries_to_show = randperm(k)[1:5]\n",
    "@show problem.uT_spectral[entries_to_show];\n",
    "@show MCKrySol.uT[entries_to_show];"
   ]
  }
 ],
 "metadata": {
  "kernelspec": {
   "display_name": "Julia 1.10.2",
   "language": "julia",
   "name": "julia-1.10"
  },
  "language_info": {
   "file_extension": ".jl",
   "mimetype": "application/julia",
   "name": "julia",
   "version": "1.10.2"
  }
 },
 "nbformat": 4,
 "nbformat_minor": 2
}
